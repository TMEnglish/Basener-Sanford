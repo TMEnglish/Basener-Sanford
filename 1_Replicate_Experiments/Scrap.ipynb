{
 "cells": [
  {
   "cell_type": "markdown",
   "metadata": {},
   "source": [
    "**Scrap**\n",
    "\n",
    " I have deferred naming the parameters $b_i,$ $d_i,$ and $m_i$ because the difference in terminology of Basener and Sanford from that of Fisher ([The Genetical Theory of Natural Selection](https://archive.org/stream/geneticaltheoryo031631mbp/geneticaltheoryo031631mbp_djvu.txt), Chapter 2) is germane. The equation indicates that the rate of growth of the population in type $i$ is proportional to the present frequency of the type, and that $m_i$ is the constant of proportionality. Thus it is not a terribly good idea to refer, as do Basener and Sanford, to $m_i$ itself as the growth rate.\n",
    "\n",
    "Basener and Sanford refer to $m_i$ as the Malthusian growth rate (or fitness) of the $i$-th subpopulation. Referring to $b_i,$ $d_i,$ and $m_i$ as rates is a  source of confusion, however, because the equation indicates that the rate of growth in the size of a subpopulation is proportional to its present size, and that $m_i$ is the constant of proportionality. Thus it is a nontrivial to observe that Fisher refers to Malthusian *factors* in [The Genetical Theory of Natural Selction](https://archive.org/stream/geneticaltheoryo031631mbp/geneticaltheoryo031631mbp_djvu.txt) (see, in particular, Chapter 2). Basener and Sanford express rates on an annual basis, and stipulate elsewhere that the death rates of the subpopulations are identically equal to 0.1.\n",
    "\n",
    "\n",
    "\n",
    "Basener and Sanford stipulate elsewhere that the death rates, expressed on an annual basis, are identically equal to 0.1. The fraction of births in subpopulation $j$ that belong to subpopulation $i$ is $f_{ij}.$ \n",
    "\n",
    "is $P_i$ is the frequency of organisms with birth rate $b_i$ and death rate $d_i,$ and $f_{ij}$ is the fraction ,  \n",
    "\n",
    "There is, in the absence of mutation, a simple formula relating the frequencies $P_{t,i}$ of the Malthusian growth rates $m_i$ at all times $t \\geq 0$ to their initial frequencies $P_{0, i},$ i.e.,\n",
    "\n",
    "\\begin{equation}\n",
    "P_{t,i} = P_{0,i} \\exp(t \\cdot m_i).\n",
    "\\end{equation}\n",
    "\n",
    "If the results of iterated annual updates to the frequencies, which Basener and Sanford call simulation, are not close to the frequencies given by the formula, then something is wrong with the iteration. Rather than report the results for iterated annual updates with no mutation (mutation distribution type `mt == \"None\"`), which are not in good agreement with the formula, Basener and Sanford misreport the results of evaluating the formula as \"simulation\" results."
   ]
  },
  {
   "cell_type": "code",
   "execution_count": null,
   "metadata": {},
   "outputs": [],
   "source": []
  }
 ],
 "metadata": {
  "kernelspec": {
   "display_name": "Python 3",
   "language": "python",
   "name": "python3"
  },
  "language_info": {
   "codemirror_mode": {
    "name": "ipython",
    "version": 3
   },
   "file_extension": ".py",
   "mimetype": "text/x-python",
   "name": "python",
   "nbconvert_exporter": "python",
   "pygments_lexer": "ipython3",
   "version": "3.6.4"
  }
 },
 "nbformat": 4,
 "nbformat_minor": 2
}
