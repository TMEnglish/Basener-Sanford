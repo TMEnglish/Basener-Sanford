{
 "cells": [
  {
   "cell_type": "markdown",
   "metadata": {},
   "source": [
    "# Basic usage of `bs.py`"
   ]
  },
  {
   "cell_type": "code",
   "execution_count": 1,
   "metadata": {},
   "outputs": [],
   "source": [
    "%matplotlib notebook\n",
    "%run bs.py\n",
    "plt.rcParams['animation.html'] = 'jshtml' # 'html5' requires FFmpeg\n",
    "sns.set_style(\"darkgrid\", {\"axes.facecolor\": \".9\"})\n",
    "sns.set_context(\"notebook\", font_scale=1, rc={\"lines.linewidth\": 2})\n",
    "sns.set_palette(sns.color_palette(\"Set2\", 4))"
   ]
  },
  {
   "cell_type": "markdown",
   "metadata": {},
   "source": [
    "## Class `Population`\n",
    "\n",
    "A instance of the class `Population` contains a frequency distribution of organisms over a discrete set of Malthusian growth rates, and provides a method for annual update of the distribution. The instance is defined by an initial frequency distribution over growth rates, along with a probability distribution over the effects of mutation on the growth rates of offspring. \n",
    "\n",
    "### Instantiation\n",
    "\n",
    "Blah-blah"
   ]
  },
  {
   "cell_type": "code",
   "execution_count": null,
   "metadata": {},
   "outputs": [],
   "source": [
    "birth_redistribution = GaussianEffects()\n",
    "initial_distribution = GaussianRates(birth_redistribution.n_rates)\n",
    "population = Population(initial_distribution, birth_redistribution, n_updates_per_year=1)"
   ]
  },
  {
   "cell_type": "markdown",
   "metadata": {},
   "source": [
    "See the section below on class ``Distribution`` for more information on the distributions over growth rates and mutation effects.\n",
    "\n",
    "**Need explanation of updates per year**.\n",
    "\n",
    "The initial frequency distribution over growth rates and the probability distribution *changes* in growth rate (mutation effects) must agree in the range of discrete growth rates. It is easier to maintain consistency with the BS experiments by associating default values with the latter than with the former.\n",
    "\n",
    "### Subclass `BS_Population`\n",
    "\n",
    "The class `BS_Population` replaces the annual update method of its superclass `Population` with one that agrees with the BS numerical experiments. The annual update method of a `Population` instance treats the birth rates and the death rate as logarithmic. It also lumps the out-of-range births (mutants) with the endpoints of the population distribution. The annual update method of a `BS_Population` instance treats the rates as linear, and discards the out-of-range births, precisely as Basener's script does.\n",
    "\n",
    "By default, a `BS_Population` is what BS call &ldquo;infinite,&rdquo; meaning that relatively small frequencies are retained, just as with a `Population`."
   ]
  },
  {
   "cell_type": "markdown",
   "metadata": {},
   "source": [
    "## Class `Evolution`\n",
    "\n",
    "An instance of the class `Evolution` records the `trajectory` of a `Population` in the space of frequency distributions. Each step in the `trajectory` corresponds to one annual update of the the `Population` object. This makes it easy to address the question of how the number of updates per year affects the trajectory. The `Evolution` object provides a method for extending the `trajectory` by a given number of years, along with methods for access and analysis of the `trajectory`.\n",
    "\n",
    "### Instantiation\n",
    "\n",
    "Blah-blah"
   ]
  },
  {
   "cell_type": "code",
   "execution_count": null,
   "metadata": {},
   "outputs": [],
   "source": [
    "evolution = Evolution(population)"
   ]
  },
  {
   "cell_type": "markdown",
   "metadata": {},
   "source": [
    "The length of a Population instance is the number of discrete growth rates (fitnesses) over which the population is distributed."
   ]
  },
  {
   "cell_type": "code",
   "execution_count": null,
   "metadata": {},
   "outputs": [],
   "source": [
    "bs_population = BS_Population(initial_population, birth_redistribution)\n",
    "bs_evolution = Evolution(bs_population)"
   ]
  },
  {
   "cell_type": "code",
   "execution_count": null,
   "metadata": {},
   "outputs": [],
   "source": [
    "len(population), len(bs_population)"
   ]
  },
  {
   "cell_type": "markdown",
   "metadata": {},
   "source": [
    "The length of an `Evolution` instance is the number of years in the evolutionary process. The length of a fresh instance is 1 because year 0 is included."
   ]
  },
  {
   "cell_type": "code",
   "execution_count": null,
   "metadata": {},
   "outputs": [],
   "source": [
    "len(evolution), len(bs_evolution)"
   ]
  },
  {
   "cell_type": "markdown",
   "metadata": {},
   "source": [
    "To extend the evolutionary process by $n$ years, call the `Evolution` instance with parameter $n.$"
   ]
  },
  {
   "cell_type": "code",
   "execution_count": null,
   "metadata": {},
   "outputs": [],
   "source": [
    "evolution(100), bs_evolution(100)\n",
    "len(evolution), len(bs_evolution)"
   ]
  },
  {
   "cell_type": "code",
   "execution_count": null,
   "metadata": {},
   "outputs": [],
   "source": [
    "evolution(200), bs_evolution(200)\n",
    "len(evolution), len(bs_evolution)"
   ]
  },
  {
   "cell_type": "markdown",
   "metadata": {},
   "source": [
    "Now we animate the two evolutionary processes. The `stride` parameter determines how many years the animation advances in each frame. The time required to generate an HTML5 video is inversely proportional to the stride.\n",
    "\n",
    "(I haven't yet provided the means to determine which of the differences in `Population` and `BS_Population` is making a difference, but I'm pretty sure that dicarding out-of-range mutants has little effect in this particular experiment. The further the birth rates from 0, the worse the linear approximation.)"
   ]
  },
  {
   "cell_type": "code",
   "execution_count": null,
   "metadata": {},
   "outputs": [],
   "source": [
    "animate([evolution, bs_evolution], ['TE', 'BS'], stride=2, subtitle='\\nGaussian Mutation Effects')"
   ]
  },
  {
   "cell_type": "markdown",
   "metadata": {},
   "source": [
    "Now we switch to the (reflected, rescaled) Gamma distribution over mutation effects&nbsp;&mdash; but without Basener's gimmick of setting the probability that mutation has no effect on fitness to the probability that mutation has a minimally deleterious effect on fitness. We want to see the change in the evolutionary process when mutations at $L=2^n$ loci, $n = 0, 1, 2, 14,$ have iid effects on fitness, with the number of mutations per offspring held at 1."
   ]
  },
  {
   "cell_type": "code",
   "execution_count": null,
   "metadata": {},
   "outputs": [],
   "source": [
    "# Pixiedust Node fails if the objects are stored in lists\n",
    "exponents = np.array([0, 1, 2, 14])\n",
    "iid_mutations = np.empty(len(exponents), dtype=object)\n",
    "processes = np.empty(len(exponents), dtype=object)\n",
    "\n",
    "for i in range(len(exponents)):\n",
    "    iid_mutations[i] = GammaEffects(number_of_mutations=1, log_number_of_loci=exponents[i])\n",
    "    initial_population = GaussianRates(iid_mutations[i].n_rates)\n",
    "    processes[i] = Evolution(Population(initial_population, iid_mutations[i]))"
   ]
  },
  {
   "cell_type": "markdown",
   "metadata": {},
   "source": [
    "We run each of the evolutionary processes for 2500 years."
   ]
  },
  {
   "cell_type": "code",
   "execution_count": null,
   "metadata": {},
   "outputs": [],
   "source": [
    "for p in processes:\n",
    "    p(2500)"
   ]
  },
  {
   "cell_type": "markdown",
   "metadata": {},
   "source": [
    "Now we animate the processes."
   ]
  },
  {
   "cell_type": "code",
   "execution_count": null,
   "metadata": {},
   "outputs": [],
   "source": [
    "animate(processes, exponents, stride=10, subtitle='\\nOne Mutation, Log-Number of Loci Varying')"
   ]
  },
  {
   "cell_type": "markdown",
   "metadata": {},
   "source": [
    "To get a clearer picture, we omit $n=2$ from the animation."
   ]
  },
  {
   "cell_type": "code",
   "execution_count": null,
   "metadata": {},
   "outputs": [],
   "source": [
    "p = processes[[0, 1, 3]]\n",
    "e = exponents[[0, 1, 3]]\n",
    "animate(p, e, stride=10, subtitle='\\nOne Mutation, Log-Number of Loci Varying')"
   ]
  },
  {
   "cell_type": "markdown",
   "metadata": {},
   "source": [
    "Let's plot the distributions of mutation effects for $\\log_2 L = 0, 1, 14.$"
   ]
  },
  {
   "cell_type": "code",
   "execution_count": null,
   "metadata": {},
   "outputs": [],
   "source": [
    "fig = plt.figure()\n",
    "axes = fig.gca()\n",
    "line_width = 1\n",
    "offset = 0.00010\n",
    "line = iid_mutations[0].vlines(axes, x_offset=-offset, label=exponents[0])\n",
    "line.set(color='r', lw=line_width)\n",
    "line = iid_mutations[1].vlines(axes, x_offset= 0.0000, label=exponents[1])\n",
    "line.set(color='b', lw=line_width)\n",
    "line = iid_mutations[3].vlines(axes, x_offset=+offset, label=exponents[3])\n",
    "line.set(color='g', lw=line_width)\n",
    "plt.grid()\n",
    "plt.xlim(-0.005, +0.005)\n",
    "plt.legend(loc='best')\n",
    "plt.title('Gamma Mutation Effects\\nOne Mutation, Log-Number of Loci Varying');"
   ]
  },
  {
   "cell_type": "markdown",
   "metadata": {},
   "source": [
    "Now we take a look at the upper tail."
   ]
  },
  {
   "cell_type": "code",
   "execution_count": null,
   "metadata": {},
   "outputs": [],
   "source": [
    "axes.set_ylim(0, 0.0005)\n",
    "fig"
   ]
  },
  {
   "cell_type": "code",
   "execution_count": null,
   "metadata": {},
   "outputs": [],
   "source": [
    "%%node\n",
    "\n",
    "var PctBeneficial = 0.001;\n",
    "var AnimateId;\n",
    "\n",
    "\n",
    "function Gamma(Z) {\n",
    "    with(Math) {\n",
    "        var S = 1 + 76.18009173 / Z - 86.50532033 / (Z + 1) + 24.01409822 / (Z + 2) - 1.231739516 / (Z + 3) + .00120858003 / (Z + 4) - .00000536382 / (Z + 5);\n",
    "        var G = exp((Z - .5) * log(Z + 4.5) - (Z + 4.5) + log(S * 2.50662827465));\n",
    "    }\n",
    "    return G\n",
    "}\n",
    "\n",
    "\n",
    "function mutationProb(mDiff, mDelta, mt) {\n",
    "    if (mt == \"Gaussian\") {\n",
    "        var stdevMutation = /* 0.0005 */ 0.002;  //# 0.002 in BS article\n",
    "        GaussianMultiplicativeTerm = 1 / (stdevMutation * Math.sqrt(2 * Math.PI));\n",
    "        f = GaussianMultiplicativeTerm * Math.exp(-0.5 * Math.pow((mDiff) / stdevMutation, 2));\n",
    "        f = f * mDelta;\n",
    "    }\n",
    "    if (mt == \"Asymmetrical Gaussian\") {\n",
    "        var stdevMutation = 0.001;\n",
    "        var stdevMutationBeneficial = 0.001;\n",
    "        if (mDiff > 0) {\n",
    "            GaussianMultiplicativeTerm = 1 / (stdevMutationBeneficial * Math.sqrt(2 * Math.PI));\n",
    "            f = ((PctBeneficial) / 0.5) * GaussianMultiplicativeTerm * Math.exp(-0.5 * Math.pow((mDiff) / stdevMutationBeneficial, 2));\n",
    "        }\n",
    "        else {\n",
    "            GaussianMultiplicativeTerm = 1 / (stdevMutation * Math.sqrt(2 * Math.PI));\n",
    "            f = ((1 - PctBeneficial) / 0.5) * GaussianMultiplicativeTerm * Math.exp(-0.5 * Math.pow((mDiff) / stdevMutation, 2));\n",
    "        }\n",
    "        f = f * mDelta;\n",
    "    }\n",
    "    if (mt == \"Gamma\") {\n",
    "        if (mDiff == 0) mDiff = -mDelta;\n",
    "        var sBarBeneficial = 0.001;\n",
    "        var sBarDeleterious = 0.001;\n",
    "        var aBeneficial = 0.5;\n",
    "        var aDeleterious = 0.5;\n",
    "        var bBeneficial = aBeneficial / sBarBeneficial;\n",
    "        var bDeleterious = aDeleterious / sBarDeleterious;\n",
    "        if (mDiff > 0) f = (PctBeneficial) * Math.pow(bBeneficial, aBeneficial) * Math.pow(mDiff, aBeneficial - 1) * Math.exp(-bBeneficial * mDiff) / Gamma(aBeneficial);\n",
    "        if (mDiff < 0) f = (1 - PctBeneficial) * Math.pow(bDeleterious, aDeleterious) * Math.pow(Math.abs(mDiff), aDeleterious - 1) * Math.exp(-bDeleterious * Math.abs(mDiff)) / Gamma(aDeleterious);\n",
    "        f = f * mDelta;\n",
    "    }\n",
    "    if (mt == \"None\" || mt == \"NoneExact\") {\n",
    "        f = 0;\n",
    "        if (mDiff == 0) f = 1;\n",
    "    }\n",
    "    return f;\n",
    "}\n",
    "\n",
    "\n",
    "function runSimulation(pctBeneficial = 0.001,  //# \"Percentage of mutations that are beneficial\"\n",
    "                       mt = \"Gamma\",           //# \"Mutation Distribution Type\": Gamma, Gaussian, None, or NoneExact\n",
    "                       PopSize = \"Finite\",     //# \"Population Size\" is Finite or Infinite\n",
    "                       numYears = 3500,        //# \"Number of years\" in the evolutionary process\n",
    "                       numIncrements = 500)    //# \"Number of Discrete Population Fitness Values\"\n",
    "{\n",
    "    //# Moved variables set by form inputs into parameter list\n",
    "    console.log('initializing');\n",
    "    PctBeneficial = pctBeneficial; //# set global variable\n",
    "    var maxPopulationSize = 10 ^ 9;\n",
    "    var mean = 0.044;\n",
    "    var stdev = 0.005;\n",
    "    var fitnessRange = [-0.1, 0.15];\n",
    "    var numStDev = 11.2;\n",
    "    var deathRate = 0.1;\n",
    "    var meanFitness = new Array(numYears);\n",
    "    var varianceFitness = new Array(numYears);\n",
    "    var P = new Array(numIncrements);\n",
    "    var MeanROC = new Array(numYears);\n",
    "    var MVRatio = new Array(numYears);\n",
    "    var MVDiff = new Array(numYears);\n",
    "    var yearVariable = new Array(numYears);\n",
    "    var minFitness = mean - numStDev * stdev;\n",
    "    var maxFitness = mean + numStDev * stdev;\n",
    "    var m = new Array(numIncrements);\n",
    "    mDelta = (fitnessRange[1] - fitnessRange[0]) / (numIncrements);\n",
    "    m[0] = fitnessRange[0];\n",
    "    for (i = 1; i < numIncrements; i++) {\n",
    "        m[i] = fitnessRange[0] + i * mDelta;\n",
    "    }\n",
    "    var b = new Array(numIncrements);\n",
    "    for (i = 0; i < numIncrements; i++) {\n",
    "        b[i] = m[i] + deathRate;\n",
    "    }\n",
    "    GaussianMultiplicativeTerm = 1 / (stdev * Math.sqrt(2 * Math.PI));\n",
    "    //# Correct error: last iteration assigns to memory out of bounds\n",
    "    for (i = 0; i < numIncrements /* + 1 */; i++) { \n",
    "        P[i] = GaussianMultiplicativeTerm * Math.exp(-0.5 * Math.pow((m[i] - mean) / stdev, 2));\n",
    "        if (m[i] < minFitness) {\n",
    "            P[i] = 0\n",
    "        };\n",
    "        if (m[i] > maxFitness) {\n",
    "            P[i] = 0\n",
    "        };\n",
    "    }\n",
    "    var Psolution = new Array(numYears);\n",
    "    var PsolutionForPlot = new Array(numYears);\n",
    "    for (var t = 0; t < numYears; t++) {\n",
    "        Psolution[t] = new Array(numIncrements);\n",
    "        PsolutionForPlot[t] = new Array(numIncrements);\n",
    "    }\n",
    "    s = 0;\n",
    "    for (i = 0; i < numIncrements; i++) {\n",
    "        s = s + P[i]\n",
    "    }\n",
    "    var maxPinitial = 0;\n",
    "    for (var i = 0; i < numIncrements; i++) {\n",
    "        Psolution[0][i] = P[i] / s;\n",
    "        PsolutionForPlot[0][i] = P[i] / s;\n",
    "        maxPinitial = Math.max(maxPinitial, PsolutionForPlot[0][i]);\n",
    "    }\n",
    "    var MP = new Array(numIncrements);\n",
    "    for (i = 0; i < numIncrements; i++) {\n",
    "        MP[i] = new Array(numIncrements);\n",
    "        for (j = 0; j < numIncrements; j++) {\n",
    "            MP[i][j] = b[j] * mutationProb(m[i] - m[j], mDelta, mt);\n",
    "        }\n",
    "    }\n",
    "    meanFitness[0] = mean;\n",
    "    varianceFitness[0] = 0;\n",
    "    for (var i = 0; i < numIncrements; i++) {\n",
    "        varianceFitness[0] = varianceFitness[0] + (m[i] - mean) * (m[i] - mean) * Psolution[0][i];\n",
    "    }\n",
    "    console.log('iterating');\n",
    "    for (t = 1; t < numYears; t++) {\n",
    "        s = 0;\n",
    "        meanFitness[t] = 0;\n",
    "        varianceFitness[t] = 0;\n",
    "        for (i = 0; i < numIncrements; i++) {\n",
    "            Psolution[t][i] = Psolution[t - 1][i];\n",
    "            for (j = 0; j < numIncrements; j++) {\n",
    "                Psolution[t][i] = Psolution[t][i] + Psolution[t - 1][j] * MP[i][j];\n",
    "            }\n",
    "            Psolution[t][i] = Psolution[t][i] - deathRate * Psolution[t - 1][i];\n",
    "            if (mt == \"NoneExact\") Psolution[t][i] = Psolution[0][i] * Math.exp(t * m[i]);\n",
    "            s = s + Psolution[t][i];\n",
    "        }\n",
    "        if (PopSize == \"Finite\") {\n",
    "            maximumP = Math.max.apply(Math, Psolution[t]);\n",
    "            for (i = 0; i < numIncrements; i++) {\n",
    "                Psolution[t][i] = Psolution[t][i] * (Psolution[t][i] > maximumP * 0.000000001);\n",
    "            }\n",
    "        }\n",
    "        for (var i = 0; i < numIncrements; i++) {\n",
    "            PsolutionForPlot[t][i] = Psolution[t][i] / s;\n",
    "            meanFitness[t] = meanFitness[t] + m[i] * PsolutionForPlot[t][i];\n",
    "        }\n",
    "        for (var i = 0; i < numIncrements; i++) {\n",
    "            mMinusMean = (m[i] - meanFitness[t]);\n",
    "            varianceFitness[t] = varianceFitness[t] + mMinusMean * mMinusMean * PsolutionForPlot[t][i];\n",
    "        }\n",
    "    }\n",
    "    console.log('done');\n",
    "    return {'trajectory' : Psolution, 'growth_rates' : m}\n",
    "}"
   ]
  },
  {
   "cell_type": "code",
   "execution_count": null,
   "metadata": {},
   "outputs": [],
   "source": [
    "%%node\n",
    "bs_result = runSimulation(pctBeneficial = 0.001,  //# \"Percentage of mutations that are beneficial\"\n",
    "                          mt = \"Gaussian\",        //# \"Mutation Distribution Type\": Gamma, Gaussian, None, or NoneExact\n",
    "                          PopSize = \"Finite\",     //# \"Population Size\" is Finite or Infinite\n",
    "                          numYears = 300,         //# \"Number of years\" in the evolutionary process\n",
    "                          numIncrements = 250);   //# \"Number of Discrete Population Fitness Values\""
   ]
  },
  {
   "cell_type": "code",
   "execution_count": null,
   "metadata": {},
   "outputs": [],
   "source": [
    "bs = WrappedTrajectory(bs_result['trajectory'], bs_result['growth_rates'])\n",
    "bs_alt = Evolution(BS_Population(GaussianRates(251), GaussianEffects(251), threshold_norm=np.max))\n",
    "bs_alt(len(bs) - 1)\n",
    "len(bs), len(bs_alt)"
   ]
  },
  {
   "cell_type": "code",
   "execution_count": null,
   "metadata": {},
   "outputs": [],
   "source": [
    "mean_variance_plots([bs, bs_alt], ['BS', 'Alt'], subtitle='Do we match BS?')"
   ]
  },
  {
   "cell_type": "code",
   "execution_count": null,
   "metadata": {},
   "outputs": [],
   "source": [
    "animate([bs, bs_alt], ['BS', 'Alt'], stride=3, subtitle=': Do we match BS?')"
   ]
  },
  {
   "cell_type": "code",
   "execution_count": null,
   "metadata": {},
   "outputs": [],
   "source": [
    "(bs.annual_growth_rates[:] == bs_alt.annual_growth_rates[:-1]).all()"
   ]
  },
  {
   "cell_type": "code",
   "execution_count": null,
   "metadata": {},
   "outputs": [],
   "source": [
    "np.sum(np.abs(bs[0] - bs_alt[0][:-1]))"
   ]
  },
  {
   "cell_type": "code",
   "execution_count": null,
   "metadata": {},
   "outputs": [],
   "source": []
  }
 ],
 "metadata": {
  "kernelspec": {
   "display_name": "Python 3",
   "language": "python",
   "name": "python3"
  },
  "language_info": {
   "codemirror_mode": {
    "name": "ipython",
    "version": 3
   },
   "file_extension": ".py",
   "mimetype": "text/x-python",
   "name": "python",
   "nbconvert_exporter": "python",
   "pygments_lexer": "ipython3",
   "version": "3.6.4"
  }
 },
 "nbformat": 4,
 "nbformat_minor": 2
}
